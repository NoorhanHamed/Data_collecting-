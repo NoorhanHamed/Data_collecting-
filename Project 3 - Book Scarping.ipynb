{
 "cells": [
  {
   "cell_type": "markdown",
   "metadata": {},
   "source": [
    "# Books Scraping Project"
   ]
  },
  {
   "cell_type": "markdown",
   "metadata": {},
   "source": [
    "- Scrap the books (name, price, rate, category_name) for each category and put them into a CSV & Excel file\n",
    "- https://books.toscrape.com/"
   ]
  },
  {
   "cell_type": "markdown",
   "metadata": {},
   "source": [
    "## Import some helper modules"
   ]
  },
  {
   "cell_type": "code",
   "execution_count": 1,
   "metadata": {},
   "outputs": [
    {
     "name": "stderr",
     "output_type": "stream",
     "text": [
      "C:\\myanaconda\\envs\\Epsilon_noor\\lib\\site-packages\\requests\\__init__.py:109: RequestsDependencyWarning: urllib3 (1.26.9) or chardet (5.0.0)/charset_normalizer (2.0.4) doesn't match a supported version!\n",
      "  warnings.warn(\n"
     ]
    }
   ],
   "source": [
    "import csv\n",
    "import requests\n",
    "import pandas as pd\n",
    "from bs4 import BeautifulSoup"
   ]
  },
  {
   "cell_type": "markdown",
   "metadata": {},
   "source": [
    "## Scrape Process"
   ]
  },
  {
   "cell_type": "markdown",
   "metadata": {},
   "source": [
    "- scrape function take url as input\n",
    "- return (name , rate , price) for all books in any category\n",
    "- save books info in CSV file¶"
   ]
  },
  {
   "cell_type": "code",
   "execution_count": 2,
   "metadata": {},
   "outputs": [],
   "source": [
    "response = requests.request('GET', 'http://books.toscrape.com/catalogue/category/books/mystery_3/index.html')\n",
    "soup = BeautifulSoup(response.content, 'html.parser')"
   ]
  },
  {
   "cell_type": "code",
   "execution_count": 3,
   "metadata": {},
   "outputs": [
    {
     "data": {
      "text/plain": [
       "20"
      ]
     },
     "execution_count": 3,
     "metadata": {},
     "output_type": "execute_result"
    }
   ],
   "source": [
    "all_articles = soup.find_all('article', attrs={'class': 'product_pod'})\n",
    "len(all_articles)"
   ]
  },
  {
   "cell_type": "code",
   "execution_count": 4,
   "metadata": {},
   "outputs": [
    {
     "data": {
      "text/plain": [
       "<article class=\"product_pod\">\n",
       "<div class=\"image_container\">\n",
       "<a href=\"../../../sharp-objects_997/index.html\"><img alt=\"Sharp Objects\" class=\"thumbnail\" src=\"../../../../media/cache/32/51/3251cf3a3412f53f339e42cac2134093.jpg\"/></a>\n",
       "</div>\n",
       "<p class=\"star-rating Four\">\n",
       "<i class=\"icon-star\"></i>\n",
       "<i class=\"icon-star\"></i>\n",
       "<i class=\"icon-star\"></i>\n",
       "<i class=\"icon-star\"></i>\n",
       "<i class=\"icon-star\"></i>\n",
       "</p>\n",
       "<h3><a href=\"../../../sharp-objects_997/index.html\" title=\"Sharp Objects\">Sharp Objects</a></h3>\n",
       "<div class=\"product_price\">\n",
       "<p class=\"price_color\">£47.82</p>\n",
       "<p class=\"instock availability\">\n",
       "<i class=\"icon-ok\"></i>\n",
       "    \n",
       "        In stock\n",
       "    \n",
       "</p>\n",
       "<form>\n",
       "<button class=\"btn btn-primary btn-block\" data-loading-text=\"Adding...\" type=\"submit\">Add to basket</button>\n",
       "</form>\n",
       "</div>\n",
       "</article>"
      ]
     },
     "execution_count": 4,
     "metadata": {},
     "output_type": "execute_result"
    }
   ],
   "source": [
    "all_articles[0]"
   ]
  },
  {
   "cell_type": "code",
   "execution_count": 5,
   "metadata": {},
   "outputs": [
    {
     "name": "stdout",
     "output_type": "stream",
     "text": [
      "47.82\n",
      "Sharp Objects\n",
      "Three\n"
     ]
    }
   ],
   "source": [
    "price = all_articles[0].find('p', attrs={'class': 'price_color'})\n",
    "print(float(price.get_text().split('£')[1]))\n",
    "\n",
    "book_name = all_articles[0].find('h3').find('a').get('title')\n",
    "print(book_name)\n",
    "\n",
    "rating = all_articles[12].find('p').get('class')[1]\n",
    "print(rating)"
   ]
  },
  {
   "cell_type": "code",
   "execution_count": 6,
   "metadata": {},
   "outputs": [],
   "source": [
    "def get_books(page):\n",
    "    with open('books.csv', 'w') as f:\n",
    "        writer = csv.DictWriter(f, fieldnames=['title', 'price', 'rate'])\n",
    "        writer.writeheader()\n",
    "        response = requests.request('GET', page)\n",
    "        soup = BeautifulSoup(response.content, 'html.parser')\n",
    "        all_articles = soup.find_all('article', attrs={'class': 'product_pod'})\n",
    "        rates = {'One': 1, 'Two': 2, 'Three': 3, 'Four': 4, 'Five': 5}\n",
    "        for article in all_articles:\n",
    "            price = float(article.find('p', attrs={'class': 'price_color'}).get_text().split('£')[1])\n",
    "            book_name = article.find('h3').find('a').get('title')\n",
    "            rating = article.find('p').get('class')[1]\n",
    "            writer.writerow({'title': book_name, 'price': price, 'rate': rates[rating]})\n",
    "            print(f'Book name: {book_name}\\nPrice: {price}\\nRate: {rates[rating]}\\n------')"
   ]
  },
  {
   "cell_type": "code",
   "execution_count": 7,
   "metadata": {},
   "outputs": [
    {
     "name": "stdout",
     "output_type": "stream",
     "text": [
      "Book name: The Most Perfect Thing: Inside (and Outside) a Bird's Egg\n",
      "Price: 42.96\n",
      "Rate: 4\n",
      "------\n",
      "Book name: Immunity: How Elie Metchnikoff Changed the Course of Modern Medicine\n",
      "Price: 57.36\n",
      "Rate: 5\n",
      "------\n",
      "Book name: Sorting the Beef from the Bull: The Science of Food Fraud Forensics\n",
      "Price: 44.74\n",
      "Rate: 4\n",
      "------\n",
      "Book name: Tipping Point for Planet Earth: How Close Are We to the Edge?\n",
      "Price: 37.55\n",
      "Rate: 1\n",
      "------\n",
      "Book name: The Fabric of the Cosmos: Space, Time, and the Texture of Reality\n",
      "Price: 55.91\n",
      "Rate: 1\n",
      "------\n",
      "Book name: Diary of a Citizen Scientist: Chasing Tiger Beetles and Other New Ways of Engaging the World\n",
      "Price: 28.41\n",
      "Rate: 1\n",
      "------\n",
      "Book name: The Origin of Species\n",
      "Price: 10.01\n",
      "Rate: 4\n",
      "------\n",
      "Book name: The Grand Design\n",
      "Price: 13.76\n",
      "Rate: 3\n",
      "------\n",
      "Book name: Peak: Secrets from the New Science of Expertise\n",
      "Price: 16.28\n",
      "Rate: 2\n",
      "------\n",
      "Book name: The Elegant Universe: Superstrings, Hidden Dimensions, and the Quest for the Ultimate Theory\n",
      "Price: 13.03\n",
      "Rate: 4\n",
      "------\n",
      "Book name: The Disappearing Spoon: And Other True Tales of Madness, Love, and the History of the World from the Periodic Table of the Elements\n",
      "Price: 57.35\n",
      "Rate: 5\n",
      "------\n",
      "Book name: Surely You're Joking, Mr. Feynman!: Adventures of a Curious Character\n",
      "Price: 25.83\n",
      "Rate: 2\n",
      "------\n",
      "Book name: Seven Brief Lessons on Physics\n",
      "Price: 30.6\n",
      "Rate: 4\n",
      "------\n",
      "Book name: The Selfish Gene\n",
      "Price: 29.45\n",
      "Rate: 1\n",
      "------\n"
     ]
    }
   ],
   "source": [
    "get_books('http://books.toscrape.com/catalogue/category/books/science_22/index.html')"
   ]
  },
  {
   "cell_type": "markdown",
   "metadata": {},
   "source": [
    "## Read CSV file"
   ]
  },
  {
   "cell_type": "code",
   "execution_count": 8,
   "metadata": {},
   "outputs": [
    {
     "data": {
      "text/html": [
       "<div>\n",
       "<style scoped>\n",
       "    .dataframe tbody tr th:only-of-type {\n",
       "        vertical-align: middle;\n",
       "    }\n",
       "\n",
       "    .dataframe tbody tr th {\n",
       "        vertical-align: top;\n",
       "    }\n",
       "\n",
       "    .dataframe thead th {\n",
       "        text-align: right;\n",
       "    }\n",
       "</style>\n",
       "<table border=\"1\" class=\"dataframe\">\n",
       "  <thead>\n",
       "    <tr style=\"text-align: right;\">\n",
       "      <th></th>\n",
       "      <th>title</th>\n",
       "      <th>price</th>\n",
       "      <th>rate</th>\n",
       "    </tr>\n",
       "  </thead>\n",
       "  <tbody>\n",
       "    <tr>\n",
       "      <th>0</th>\n",
       "      <td>The Most Perfect Thing: Inside (and Outside) a...</td>\n",
       "      <td>42.96</td>\n",
       "      <td>4</td>\n",
       "    </tr>\n",
       "    <tr>\n",
       "      <th>1</th>\n",
       "      <td>Immunity: How Elie Metchnikoff Changed the Cou...</td>\n",
       "      <td>57.36</td>\n",
       "      <td>5</td>\n",
       "    </tr>\n",
       "    <tr>\n",
       "      <th>2</th>\n",
       "      <td>Sorting the Beef from the Bull: The Science of...</td>\n",
       "      <td>44.74</td>\n",
       "      <td>4</td>\n",
       "    </tr>\n",
       "    <tr>\n",
       "      <th>3</th>\n",
       "      <td>Tipping Point for Planet Earth: How Close Are ...</td>\n",
       "      <td>37.55</td>\n",
       "      <td>1</td>\n",
       "    </tr>\n",
       "    <tr>\n",
       "      <th>4</th>\n",
       "      <td>The Fabric of the Cosmos: Space, Time, and the...</td>\n",
       "      <td>55.91</td>\n",
       "      <td>1</td>\n",
       "    </tr>\n",
       "    <tr>\n",
       "      <th>5</th>\n",
       "      <td>Diary of a Citizen Scientist: Chasing Tiger Be...</td>\n",
       "      <td>28.41</td>\n",
       "      <td>1</td>\n",
       "    </tr>\n",
       "    <tr>\n",
       "      <th>6</th>\n",
       "      <td>The Origin of Species</td>\n",
       "      <td>10.01</td>\n",
       "      <td>4</td>\n",
       "    </tr>\n",
       "    <tr>\n",
       "      <th>7</th>\n",
       "      <td>The Grand Design</td>\n",
       "      <td>13.76</td>\n",
       "      <td>3</td>\n",
       "    </tr>\n",
       "    <tr>\n",
       "      <th>8</th>\n",
       "      <td>Peak: Secrets from the New Science of Expertise</td>\n",
       "      <td>16.28</td>\n",
       "      <td>2</td>\n",
       "    </tr>\n",
       "    <tr>\n",
       "      <th>9</th>\n",
       "      <td>The Elegant Universe: Superstrings, Hidden Dim...</td>\n",
       "      <td>13.03</td>\n",
       "      <td>4</td>\n",
       "    </tr>\n",
       "    <tr>\n",
       "      <th>10</th>\n",
       "      <td>The Disappearing Spoon: And Other True Tales o...</td>\n",
       "      <td>57.35</td>\n",
       "      <td>5</td>\n",
       "    </tr>\n",
       "    <tr>\n",
       "      <th>11</th>\n",
       "      <td>Surely You're Joking, Mr. Feynman!: Adventures...</td>\n",
       "      <td>25.83</td>\n",
       "      <td>2</td>\n",
       "    </tr>\n",
       "    <tr>\n",
       "      <th>12</th>\n",
       "      <td>Seven Brief Lessons on Physics</td>\n",
       "      <td>30.60</td>\n",
       "      <td>4</td>\n",
       "    </tr>\n",
       "    <tr>\n",
       "      <th>13</th>\n",
       "      <td>The Selfish Gene</td>\n",
       "      <td>29.45</td>\n",
       "      <td>1</td>\n",
       "    </tr>\n",
       "  </tbody>\n",
       "</table>\n",
       "</div>"
      ],
      "text/plain": [
       "                                                title  price  rate\n",
       "0   The Most Perfect Thing: Inside (and Outside) a...  42.96     4\n",
       "1   Immunity: How Elie Metchnikoff Changed the Cou...  57.36     5\n",
       "2   Sorting the Beef from the Bull: The Science of...  44.74     4\n",
       "3   Tipping Point for Planet Earth: How Close Are ...  37.55     1\n",
       "4   The Fabric of the Cosmos: Space, Time, and the...  55.91     1\n",
       "5   Diary of a Citizen Scientist: Chasing Tiger Be...  28.41     1\n",
       "6                               The Origin of Species  10.01     4\n",
       "7                                    The Grand Design  13.76     3\n",
       "8     Peak: Secrets from the New Science of Expertise  16.28     2\n",
       "9   The Elegant Universe: Superstrings, Hidden Dim...  13.03     4\n",
       "10  The Disappearing Spoon: And Other True Tales o...  57.35     5\n",
       "11  Surely You're Joking, Mr. Feynman!: Adventures...  25.83     2\n",
       "12                     Seven Brief Lessons on Physics  30.60     4\n",
       "13                                   The Selfish Gene  29.45     1"
      ]
     },
     "execution_count": 8,
     "metadata": {},
     "output_type": "execute_result"
    }
   ],
   "source": [
    "books = pd.read_csv('books.csv')\n",
    "books"
   ]
  },
  {
   "cell_type": "markdown",
   "metadata": {},
   "source": [
    "# categories file "
   ]
  },
  {
   "cell_type": "code",
   "execution_count": 9,
   "metadata": {},
   "outputs": [],
   "source": [
    "page_url = 'https://books.toscrape.com/'\n",
    "req = requests.get('https://books.toscrape.com/')\n",
    "soup = BeautifulSoup(req.content)\n",
    "body = soup.body\n",
    "cat_list = body.find('ul' , {'class':\"nav nav-list\"}).find('ul').find_all('li')\n",
    "cat_link = {li.find('a').text.strip():page_url+li.find('a').attrs['href'] for li in cat_list}"
   ]
  },
  {
   "cell_type": "code",
   "execution_count": 10,
   "metadata": {},
   "outputs": [
    {
     "data": {
      "text/plain": [
       "{'Travel': 'https://books.toscrape.com/catalogue/category/books/travel_2/index.html',\n",
       " 'Mystery': 'https://books.toscrape.com/catalogue/category/books/mystery_3/index.html',\n",
       " 'Historical Fiction': 'https://books.toscrape.com/catalogue/category/books/historical-fiction_4/index.html',\n",
       " 'Sequential Art': 'https://books.toscrape.com/catalogue/category/books/sequential-art_5/index.html',\n",
       " 'Classics': 'https://books.toscrape.com/catalogue/category/books/classics_6/index.html',\n",
       " 'Philosophy': 'https://books.toscrape.com/catalogue/category/books/philosophy_7/index.html',\n",
       " 'Romance': 'https://books.toscrape.com/catalogue/category/books/romance_8/index.html',\n",
       " 'Womens Fiction': 'https://books.toscrape.com/catalogue/category/books/womens-fiction_9/index.html',\n",
       " 'Fiction': 'https://books.toscrape.com/catalogue/category/books/fiction_10/index.html',\n",
       " 'Childrens': 'https://books.toscrape.com/catalogue/category/books/childrens_11/index.html',\n",
       " 'Religion': 'https://books.toscrape.com/catalogue/category/books/religion_12/index.html',\n",
       " 'Nonfiction': 'https://books.toscrape.com/catalogue/category/books/nonfiction_13/index.html',\n",
       " 'Music': 'https://books.toscrape.com/catalogue/category/books/music_14/index.html',\n",
       " 'Default': 'https://books.toscrape.com/catalogue/category/books/default_15/index.html',\n",
       " 'Science Fiction': 'https://books.toscrape.com/catalogue/category/books/science-fiction_16/index.html',\n",
       " 'Sports and Games': 'https://books.toscrape.com/catalogue/category/books/sports-and-games_17/index.html',\n",
       " 'Add a comment': 'https://books.toscrape.com/catalogue/category/books/add-a-comment_18/index.html',\n",
       " 'Fantasy': 'https://books.toscrape.com/catalogue/category/books/fantasy_19/index.html',\n",
       " 'New Adult': 'https://books.toscrape.com/catalogue/category/books/new-adult_20/index.html',\n",
       " 'Young Adult': 'https://books.toscrape.com/catalogue/category/books/young-adult_21/index.html',\n",
       " 'Science': 'https://books.toscrape.com/catalogue/category/books/science_22/index.html',\n",
       " 'Poetry': 'https://books.toscrape.com/catalogue/category/books/poetry_23/index.html',\n",
       " 'Paranormal': 'https://books.toscrape.com/catalogue/category/books/paranormal_24/index.html',\n",
       " 'Art': 'https://books.toscrape.com/catalogue/category/books/art_25/index.html',\n",
       " 'Psychology': 'https://books.toscrape.com/catalogue/category/books/psychology_26/index.html',\n",
       " 'Autobiography': 'https://books.toscrape.com/catalogue/category/books/autobiography_27/index.html',\n",
       " 'Parenting': 'https://books.toscrape.com/catalogue/category/books/parenting_28/index.html',\n",
       " 'Adult Fiction': 'https://books.toscrape.com/catalogue/category/books/adult-fiction_29/index.html',\n",
       " 'Humor': 'https://books.toscrape.com/catalogue/category/books/humor_30/index.html',\n",
       " 'Horror': 'https://books.toscrape.com/catalogue/category/books/horror_31/index.html',\n",
       " 'History': 'https://books.toscrape.com/catalogue/category/books/history_32/index.html',\n",
       " 'Food and Drink': 'https://books.toscrape.com/catalogue/category/books/food-and-drink_33/index.html',\n",
       " 'Christian Fiction': 'https://books.toscrape.com/catalogue/category/books/christian-fiction_34/index.html',\n",
       " 'Business': 'https://books.toscrape.com/catalogue/category/books/business_35/index.html',\n",
       " 'Biography': 'https://books.toscrape.com/catalogue/category/books/biography_36/index.html',\n",
       " 'Thriller': 'https://books.toscrape.com/catalogue/category/books/thriller_37/index.html',\n",
       " 'Contemporary': 'https://books.toscrape.com/catalogue/category/books/contemporary_38/index.html',\n",
       " 'Spirituality': 'https://books.toscrape.com/catalogue/category/books/spirituality_39/index.html',\n",
       " 'Academic': 'https://books.toscrape.com/catalogue/category/books/academic_40/index.html',\n",
       " 'Self Help': 'https://books.toscrape.com/catalogue/category/books/self-help_41/index.html',\n",
       " 'Historical': 'https://books.toscrape.com/catalogue/category/books/historical_42/index.html',\n",
       " 'Christian': 'https://books.toscrape.com/catalogue/category/books/christian_43/index.html',\n",
       " 'Suspense': 'https://books.toscrape.com/catalogue/category/books/suspense_44/index.html',\n",
       " 'Short Stories': 'https://books.toscrape.com/catalogue/category/books/short-stories_45/index.html',\n",
       " 'Novels': 'https://books.toscrape.com/catalogue/category/books/novels_46/index.html',\n",
       " 'Health': 'https://books.toscrape.com/catalogue/category/books/health_47/index.html',\n",
       " 'Politics': 'https://books.toscrape.com/catalogue/category/books/politics_48/index.html',\n",
       " 'Cultural': 'https://books.toscrape.com/catalogue/category/books/cultural_49/index.html',\n",
       " 'Erotica': 'https://books.toscrape.com/catalogue/category/books/erotica_50/index.html',\n",
       " 'Crime': 'https://books.toscrape.com/catalogue/category/books/crime_51/index.html'}"
      ]
     },
     "execution_count": 10,
     "metadata": {},
     "output_type": "execute_result"
    }
   ],
   "source": [
    "cat_link"
   ]
  },
  {
   "cell_type": "code",
   "execution_count": 11,
   "metadata": {},
   "outputs": [
    {
     "data": {
      "text/plain": [
       "dict_items([('Travel', 'https://books.toscrape.com/catalogue/category/books/travel_2/index.html'), ('Mystery', 'https://books.toscrape.com/catalogue/category/books/mystery_3/index.html'), ('Historical Fiction', 'https://books.toscrape.com/catalogue/category/books/historical-fiction_4/index.html'), ('Sequential Art', 'https://books.toscrape.com/catalogue/category/books/sequential-art_5/index.html'), ('Classics', 'https://books.toscrape.com/catalogue/category/books/classics_6/index.html'), ('Philosophy', 'https://books.toscrape.com/catalogue/category/books/philosophy_7/index.html'), ('Romance', 'https://books.toscrape.com/catalogue/category/books/romance_8/index.html'), ('Womens Fiction', 'https://books.toscrape.com/catalogue/category/books/womens-fiction_9/index.html'), ('Fiction', 'https://books.toscrape.com/catalogue/category/books/fiction_10/index.html'), ('Childrens', 'https://books.toscrape.com/catalogue/category/books/childrens_11/index.html'), ('Religion', 'https://books.toscrape.com/catalogue/category/books/religion_12/index.html'), ('Nonfiction', 'https://books.toscrape.com/catalogue/category/books/nonfiction_13/index.html'), ('Music', 'https://books.toscrape.com/catalogue/category/books/music_14/index.html'), ('Default', 'https://books.toscrape.com/catalogue/category/books/default_15/index.html'), ('Science Fiction', 'https://books.toscrape.com/catalogue/category/books/science-fiction_16/index.html'), ('Sports and Games', 'https://books.toscrape.com/catalogue/category/books/sports-and-games_17/index.html'), ('Add a comment', 'https://books.toscrape.com/catalogue/category/books/add-a-comment_18/index.html'), ('Fantasy', 'https://books.toscrape.com/catalogue/category/books/fantasy_19/index.html'), ('New Adult', 'https://books.toscrape.com/catalogue/category/books/new-adult_20/index.html'), ('Young Adult', 'https://books.toscrape.com/catalogue/category/books/young-adult_21/index.html'), ('Science', 'https://books.toscrape.com/catalogue/category/books/science_22/index.html'), ('Poetry', 'https://books.toscrape.com/catalogue/category/books/poetry_23/index.html'), ('Paranormal', 'https://books.toscrape.com/catalogue/category/books/paranormal_24/index.html'), ('Art', 'https://books.toscrape.com/catalogue/category/books/art_25/index.html'), ('Psychology', 'https://books.toscrape.com/catalogue/category/books/psychology_26/index.html'), ('Autobiography', 'https://books.toscrape.com/catalogue/category/books/autobiography_27/index.html'), ('Parenting', 'https://books.toscrape.com/catalogue/category/books/parenting_28/index.html'), ('Adult Fiction', 'https://books.toscrape.com/catalogue/category/books/adult-fiction_29/index.html'), ('Humor', 'https://books.toscrape.com/catalogue/category/books/humor_30/index.html'), ('Horror', 'https://books.toscrape.com/catalogue/category/books/horror_31/index.html'), ('History', 'https://books.toscrape.com/catalogue/category/books/history_32/index.html'), ('Food and Drink', 'https://books.toscrape.com/catalogue/category/books/food-and-drink_33/index.html'), ('Christian Fiction', 'https://books.toscrape.com/catalogue/category/books/christian-fiction_34/index.html'), ('Business', 'https://books.toscrape.com/catalogue/category/books/business_35/index.html'), ('Biography', 'https://books.toscrape.com/catalogue/category/books/biography_36/index.html'), ('Thriller', 'https://books.toscrape.com/catalogue/category/books/thriller_37/index.html'), ('Contemporary', 'https://books.toscrape.com/catalogue/category/books/contemporary_38/index.html'), ('Spirituality', 'https://books.toscrape.com/catalogue/category/books/spirituality_39/index.html'), ('Academic', 'https://books.toscrape.com/catalogue/category/books/academic_40/index.html'), ('Self Help', 'https://books.toscrape.com/catalogue/category/books/self-help_41/index.html'), ('Historical', 'https://books.toscrape.com/catalogue/category/books/historical_42/index.html'), ('Christian', 'https://books.toscrape.com/catalogue/category/books/christian_43/index.html'), ('Suspense', 'https://books.toscrape.com/catalogue/category/books/suspense_44/index.html'), ('Short Stories', 'https://books.toscrape.com/catalogue/category/books/short-stories_45/index.html'), ('Novels', 'https://books.toscrape.com/catalogue/category/books/novels_46/index.html'), ('Health', 'https://books.toscrape.com/catalogue/category/books/health_47/index.html'), ('Politics', 'https://books.toscrape.com/catalogue/category/books/politics_48/index.html'), ('Cultural', 'https://books.toscrape.com/catalogue/category/books/cultural_49/index.html'), ('Erotica', 'https://books.toscrape.com/catalogue/category/books/erotica_50/index.html'), ('Crime', 'https://books.toscrape.com/catalogue/category/books/crime_51/index.html')])"
      ]
     },
     "execution_count": 11,
     "metadata": {},
     "output_type": "execute_result"
    }
   ],
   "source": [
    "for k , val in cat_link.items():\n",
    "    "
   ]
  },
  {
   "cell_type": "code",
   "execution_count": null,
   "metadata": {},
   "outputs": [],
   "source": []
  },
  {
   "cell_type": "code",
   "execution_count": null,
   "metadata": {},
   "outputs": [],
   "source": []
  },
  {
   "cell_type": "markdown",
   "metadata": {},
   "source": [
    "## Good Job!"
   ]
  }
 ],
 "metadata": {
  "kernelspec": {
   "display_name": "Python 3 (ipykernel)",
   "language": "python",
   "name": "python3"
  },
  "language_info": {
   "codemirror_mode": {
    "name": "ipython",
    "version": 3
   },
   "file_extension": ".py",
   "mimetype": "text/x-python",
   "name": "python",
   "nbconvert_exporter": "python",
   "pygments_lexer": "ipython3",
   "version": "3.9.1"
  }
 },
 "nbformat": 4,
 "nbformat_minor": 4
}
